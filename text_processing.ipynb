{
  "nbformat": 4,
  "nbformat_minor": 0,
  "metadata": {
    "kernelspec": {
      "display_name": "Python 3",
      "language": "python",
      "name": "python3"
    },
    "language_info": {
      "codemirror_mode": {
        "name": "ipython",
        "version": 3
      },
      "file_extension": ".py",
      "mimetype": "text/x-python",
      "name": "python",
      "nbconvert_exporter": "python",
      "pygments_lexer": "ipython3",
      "version": "3.6.3"
    },
    "colab": {
      "name": "text_processing.ipynb",
      "provenance": []
    }
  },
  "cells": [
    {
      "cell_type": "markdown",
      "metadata": {
        "id": "B2nsUz4dt7oY"
      },
      "source": [
        "# Text Processing\n",
        "\n",
        "## Capturing Text Data\n",
        "\n",
        "### Plain Text"
      ]
    },
    {
      "cell_type": "code",
      "metadata": {
        "id": "5xFT4HQRw7U6"
      },
      "source": [
        "import requests\n",
        "\n",
        "#fetch data\n",
        "r = requests.get(\n",
        "    \"https://quotes.rest/qod.json\")\n",
        "res = r.json()\n",
        "\n",
        "\n",
        "\n"
      ],
      "execution_count": 1,
      "outputs": []
    },
    {
      "cell_type": "code",
      "metadata": {
        "id": "1Wib9ApBxhLw",
        "outputId": "8838ef5b-a7c7-4ce3-cb3b-c9656c59077e",
        "colab": {
          "base_uri": "https://localhost:8080/",
          "height": 54
        }
      },
      "source": [
        "print(res)"
      ],
      "execution_count": 2,
      "outputs": [
        {
          "output_type": "stream",
          "text": [
            "{'success': {'total': 1}, 'contents': {'quotes': [{'quote': \"Keep a positive mind. Remember, a failed attempt doesn't make you a failure—giving up does.\", 'length': '98', 'author': 'Lorii Myers', 'tags': ['giving-up', 'inspire', 'positive-attitude', 'self-improvement'], 'category': 'inspire', 'language': 'en', 'date': '2020-10-26', 'permalink': 'https://theysaidso.com/quote/lorii-myers-keep-a-positive-mind-remember-a-failed-attempt-doesnt-make-you-a-fai', 'id': 'bUu2mjT_nWdPCQyDq7IsugeF', 'background': 'https://theysaidso.com/img/qod/qod-inspire.jpg', 'title': 'Inspiring Quote of the day'}]}, 'baseurl': 'https://theysaidso.com', 'copyright': {'year': 2022, 'url': 'https://theysaidso.com'}}\n"
          ],
          "name": "stdout"
        }
      ]
    },
    {
      "cell_type": "code",
      "metadata": {
        "id": "uZarNUNtyrGL",
        "outputId": "b03d2a84-7019-468e-f379-7313260900b8",
        "colab": {
          "base_uri": "https://localhost:8080/",
          "height": 51
        }
      },
      "source": [
        "#extract relevant object and field\n",
        "\n",
        "q = res[\"contents\"][\"quotes\"][0]\n",
        "print(q[\"quote\"], \"\\n--\", q[\"author\"])"
      ],
      "execution_count": 4,
      "outputs": [
        {
          "output_type": "stream",
          "text": [
            "Keep a positive mind. Remember, a failed attempt doesn't make you a failure—giving up does. \n",
            "-- Lorii Myers\n"
          ],
          "name": "stdout"
        }
      ]
    },
    {
      "cell_type": "code",
      "metadata": {
        "id": "i7JSIy6zt7oZ",
        "outputId": "9acdc7b0-1b24-4b3e-88ab-c61d8d72f5e2"
      },
      "source": [
        "import os\n",
        "\n",
        "# Read in a plain text file\n",
        "with open(os.path.join(\"data\", \"hieroglyph.txt\"), \"r\") as f:\n",
        "    text = f.read()\n",
        "    print(text)"
      ],
      "execution_count": null,
      "outputs": [
        {
          "output_type": "stream",
          "text": [
            "Hieroglyphic writing dates from c. 3000 BC, and is composed of hundreds of symbols. A hieroglyph can represent a word, a sound, or a silent determinative; and the same symbol can serve different purposes in different contexts. Hieroglyphs were a formal script, used on stone monuments and in tombs, that could be as detailed as individual works of art.\n",
            "\n"
          ],
          "name": "stdout"
        }
      ]
    },
    {
      "cell_type": "code",
      "metadata": {
        "id": "FfrK-aflzRUr",
        "outputId": "bccf5126-bf5d-4e91-c5cb-027364155d93",
        "colab": {
          "base_uri": "https://localhost:8080/",
          "height": 306
        }
      },
      "source": [
        ""
      ],
      "execution_count": 7,
      "outputs": [
        {
          "output_type": "stream",
          "text": [
            "Initialized empty Git repository in /content/.git/\n",
            "\n",
            "*** Please tell me who you are.\n",
            "\n",
            "Run\n",
            "\n",
            "  git config --global user.email \"you@example.com\"\n",
            "  git config --global user.name \"Your Name\"\n",
            "\n",
            "to set your account's default identity.\n",
            "Omit --global to set the identity only in this repository.\n",
            "\n",
            "fatal: unable to auto-detect email address (got 'root@c9160d097608.(none)')\n",
            "error: refname refs/heads/master not found\n",
            "fatal: Branch rename failed\n",
            "error: src refspec main does not match any.\n",
            "error: failed to push some refs to 'https://github.com/boscoybarra/NLP.git'\n"
          ],
          "name": "stdout"
        }
      ]
    },
    {
      "cell_type": "markdown",
      "metadata": {
        "id": "E0gyoc4Tt7oe"
      },
      "source": [
        "### Tabular Data"
      ]
    },
    {
      "cell_type": "code",
      "metadata": {
        "scrolled": true,
        "id": "Njo0mLqWt7of",
        "outputId": "ceca2a7f-9ccf-4cd1-8dac-4d8a5fb357b4"
      },
      "source": [
        "import pandas as pd\n",
        "\n",
        "# Extract text column from a dataframe\n",
        "df = pd.read_csv(os.path.join(\"data\", \"news.csv\"))\n",
        "df.head()[['publisher', 'title']]\n",
        "\n",
        "# Convert text column to lowercase\n",
        "df['title'] = df['title'].str.lower()\n",
        "df.head()[['publisher', 'title']]"
      ],
      "execution_count": null,
      "outputs": [
        {
          "output_type": "execute_result",
          "data": {
            "text/html": [
              "<div>\n",
              "<style scoped>\n",
              "    .dataframe tbody tr th:only-of-type {\n",
              "        vertical-align: middle;\n",
              "    }\n",
              "\n",
              "    .dataframe tbody tr th {\n",
              "        vertical-align: top;\n",
              "    }\n",
              "\n",
              "    .dataframe thead th {\n",
              "        text-align: right;\n",
              "    }\n",
              "</style>\n",
              "<table border=\"1\" class=\"dataframe\">\n",
              "  <thead>\n",
              "    <tr style=\"text-align: right;\">\n",
              "      <th></th>\n",
              "      <th>publisher</th>\n",
              "      <th>title</th>\n",
              "    </tr>\n",
              "  </thead>\n",
              "  <tbody>\n",
              "    <tr>\n",
              "      <th>0</th>\n",
              "      <td>Livemint</td>\n",
              "      <td>fed's charles plosser sees high bar for change...</td>\n",
              "    </tr>\n",
              "    <tr>\n",
              "      <th>1</th>\n",
              "      <td>IFA Magazine</td>\n",
              "      <td>us open: stocks fall after fed official hints ...</td>\n",
              "    </tr>\n",
              "    <tr>\n",
              "      <th>2</th>\n",
              "      <td>IFA Magazine</td>\n",
              "      <td>fed risks falling 'behind the curve', charles ...</td>\n",
              "    </tr>\n",
              "    <tr>\n",
              "      <th>3</th>\n",
              "      <td>Moneynews</td>\n",
              "      <td>fed's plosser: nasty weather has curbed job gr...</td>\n",
              "    </tr>\n",
              "    <tr>\n",
              "      <th>4</th>\n",
              "      <td>NASDAQ</td>\n",
              "      <td>plosser: fed may have to accelerate tapering pace</td>\n",
              "    </tr>\n",
              "  </tbody>\n",
              "</table>\n",
              "</div>"
            ],
            "text/plain": [
              "      publisher                                              title\n",
              "0      Livemint  fed's charles plosser sees high bar for change...\n",
              "1  IFA Magazine  us open: stocks fall after fed official hints ...\n",
              "2  IFA Magazine  fed risks falling 'behind the curve', charles ...\n",
              "3     Moneynews  fed's plosser: nasty weather has curbed job gr...\n",
              "4        NASDAQ  plosser: fed may have to accelerate tapering pace"
            ]
          },
          "metadata": {
            "tags": []
          },
          "execution_count": 2
        }
      ]
    },
    {
      "cell_type": "markdown",
      "metadata": {
        "id": "fFE5hInbt7oi"
      },
      "source": [
        "### Online Resource"
      ]
    },
    {
      "cell_type": "code",
      "metadata": {
        "scrolled": true,
        "id": "FGsaRudWt7oj",
        "outputId": "11abcb4d-287a-4e2b-a9dc-08ffab2f63be"
      },
      "source": [
        "import requests\n",
        "import json\n",
        "\n",
        "# Fetch data from a REST API\n",
        "r = requests.get(\n",
        "    \"https://quotes.rest/qod.json\")\n",
        "res = r.json()\n",
        "print(json.dumps(res, indent=4))\n",
        "\n",
        "# Extract relevant object and field\n",
        "q = res[\"contents\"][\"quotes\"][0]\n",
        "print(q[\"quote\"], \"\\n--\", q[\"author\"])"
      ],
      "execution_count": null,
      "outputs": [
        {
          "output_type": "stream",
          "text": [
            "{\n",
            "    \"success\": {\n",
            "        \"total\": 1\n",
            "    },\n",
            "    \"contents\": {\n",
            "        \"quotes\": [\n",
            "            {\n",
            "                \"quote\": \"Keep a positive mind. Remember, a failed attempt doesn't make you a failure\\u2014giving up does.\",\n",
            "                \"length\": \"98\",\n",
            "                \"author\": \"Lorii Myers\",\n",
            "                \"tags\": [\n",
            "                    \"giving-up\",\n",
            "                    \"inspire\",\n",
            "                    \"positive-attitude\",\n",
            "                    \"self-improvement\"\n",
            "                ],\n",
            "                \"category\": \"inspire\",\n",
            "                \"language\": \"en\",\n",
            "                \"date\": \"2020-10-26\",\n",
            "                \"permalink\": \"https://theysaidso.com/quote/lorii-myers-keep-a-positive-mind-remember-a-failed-attempt-doesnt-make-you-a-fai\",\n",
            "                \"id\": \"bUu2mjT_nWdPCQyDq7IsugeF\",\n",
            "                \"background\": \"https://theysaidso.com/img/qod/qod-inspire.jpg\",\n",
            "                \"title\": \"Inspiring Quote of the day\"\n",
            "            }\n",
            "        ]\n",
            "    },\n",
            "    \"baseurl\": \"https://theysaidso.com\",\n",
            "    \"copyright\": {\n",
            "        \"year\": 2022,\n",
            "        \"url\": \"https://theysaidso.com\"\n",
            "    }\n",
            "}\n",
            "Keep a positive mind. Remember, a failed attempt doesn't make you a failure—giving up does. \n",
            "-- Lorii Myers\n"
          ],
          "name": "stdout"
        }
      ]
    },
    {
      "cell_type": "markdown",
      "metadata": {
        "id": "f-doxZSft7om"
      },
      "source": [
        "## Cleaning"
      ]
    },
    {
      "cell_type": "code",
      "metadata": {
        "scrolled": true,
        "id": "MxwO8d8xt7on",
        "outputId": "77ccb551-a28b-4ccd-af4e-7c4eec7efe8b"
      },
      "source": [
        "import requests\n",
        "\n",
        "# Fetch a web page\n",
        "r = requests.get(\"https://news.ycombinator.com\")\n",
        "print(r.text)"
      ],
      "execution_count": null,
      "outputs": [
        {
          "output_type": "stream",
          "text": [
            "<html lang=\"en\" op=\"news\"><head><meta name=\"referrer\" content=\"origin\"><meta name=\"viewport\" content=\"width=device-width, initial-scale=1.0\"><link rel=\"stylesheet\" type=\"text/css\" href=\"news.css?soNUeJqjM49NBl6GCwMq\">\n",
            "        <link rel=\"shortcut icon\" href=\"favicon.ico\">\n",
            "          <link rel=\"alternate\" type=\"application/rss+xml\" title=\"RSS\" href=\"rss\">\n",
            "        <title>Hacker News</title></head><body><center><table id=\"hnmain\" border=\"0\" cellpadding=\"0\" cellspacing=\"0\" width=\"85%\" bgcolor=\"#f6f6ef\">\n",
            "        <tr><td bgcolor=\"#ff6600\"><table border=\"0\" cellpadding=\"0\" cellspacing=\"0\" width=\"100%\" style=\"padding:2px\"><tr><td style=\"width:18px;padding-right:4px\"><a href=\"https://news.ycombinator.com\"><img src=\"y18.gif\" width=\"18\" height=\"18\" style=\"border:1px white solid;\"></a></td>\n",
            "                  <td style=\"line-height:12pt; height:10px;\"><span class=\"pagetop\"><b class=\"hnname\"><a href=\"news\">Hacker News</a></b>\n",
            "              <a href=\"newest\">new</a> | <a href=\"front\">past</a> | <a href=\"newcomments\">comments</a> | <a href=\"ask\">ask</a> | <a href=\"show\">show</a> | <a href=\"jobs\">jobs</a> | <a href=\"submit\">submit</a>            </span></td><td style=\"text-align:right;padding-right:4px;\"><span class=\"pagetop\">\n",
            "                              <a href=\"login?goto=news\">login</a>\n",
            "                          </span></td>\n",
            "              </tr></table></td></tr>\n",
            "<tr id=\"pagespace\" title=\"\" style=\"height:10px\"></tr><tr><td><table border=\"0\" cellpadding=\"0\" cellspacing=\"0\" class=\"itemlist\">\n",
            "              <tr class='athing' id='24899863'>\n",
            "      <td align=\"right\" valign=\"top\" class=\"title\"><span class=\"rank\">1.</span></td>      <td valign=\"top\" class=\"votelinks\"><center><a id='up_24899863' href='vote?id=24899863&amp;how=up&amp;goto=news'><div class='votearrow' title='upvote'></div></a></center></td><td class=\"title\"><a href=\"https://freedom.press/news/riaa-github-youtube-dl-journalist-tool/\" class=\"storylink\">How journalists use youtube-dl, the media tool RIAA forced offline</a><span class=\"sitebit comhead\"> (<a href=\"from?site=freedom.press\"><span class=\"sitestr\">freedom.press</span></a>)</span></td></tr><tr><td colspan=\"2\"></td><td class=\"subtext\">\n",
            "        <span class=\"score\" id=\"score_24899863\">99 points</span> by <a href=\"user?id=thisisparker\" class=\"hnuser\">thisisparker</a> <span class=\"age\"><a href=\"item?id=24899863\">1 hour ago</a></span> <span id=\"unv_24899863\"></span> | <a href=\"hide?id=24899863&amp;goto=news\">hide</a> | <a href=\"item?id=24899863\">1&nbsp;comment</a>              </td></tr>\n",
            "      <tr class=\"spacer\" style=\"height:5px\"></tr>\n",
            "                <tr class='athing' id='24898911'>\n",
            "      <td align=\"right\" valign=\"top\" class=\"title\"><span class=\"rank\">2.</span></td>      <td valign=\"top\" class=\"votelinks\"><center><a id='up_24898911' href='vote?id=24898911&amp;how=up&amp;goto=news'><div class='votearrow' title='upvote'></div></a></center></td><td class=\"title\"><a href=\"https://helix.apache.org/0.6.8-docs/recipes/rsync_replicated_file_store.html\" class=\"storylink\">Apache Helix – Near-Realtime Rsync Replicated File System</a><span class=\"sitebit comhead\"> (<a href=\"from?site=apache.org\"><span class=\"sitestr\">apache.org</span></a>)</span></td></tr><tr><td colspan=\"2\"></td><td class=\"subtext\">\n",
            "        <span class=\"score\" id=\"score_24898911\">140 points</span> by <a href=\"user?id=GordonS\" class=\"hnuser\">GordonS</a> <span class=\"age\"><a href=\"item?id=24898911\">3 hours ago</a></span> <span id=\"unv_24898911\"></span> | <a href=\"hide?id=24898911&amp;goto=news\">hide</a> | <a href=\"item?id=24898911\">90&nbsp;comments</a>              </td></tr>\n",
            "      <tr class=\"spacer\" style=\"height:5px\"></tr>\n",
            "                <tr class='athing' id='24898210'>\n",
            "      <td align=\"right\" valign=\"top\" class=\"title\"><span class=\"rank\">3.</span></td>      <td valign=\"top\" class=\"votelinks\"><center><a id='up_24898210' href='vote?id=24898210&amp;how=up&amp;goto=news'><div class='votearrow' title='upvote'></div></a></center></td><td class=\"title\"><a href=\"http://dmitrysoshnikov.com/courses/parsing-algorithms/\" class=\"storylink\">Parsing Algorithms</a><span class=\"sitebit comhead\"> (<a href=\"from?site=dmitrysoshnikov.com\"><span class=\"sitestr\">dmitrysoshnikov.com</span></a>)</span></td></tr><tr><td colspan=\"2\"></td><td class=\"subtext\">\n",
            "        <span class=\"score\" id=\"score_24898210\">231 points</span> by <a href=\"user?id=DmitrySoshnikov\" class=\"hnuser\">DmitrySoshnikov</a> <span class=\"age\"><a href=\"item?id=24898210\">4 hours ago</a></span> <span id=\"unv_24898210\"></span> | <a href=\"hide?id=24898210&amp;goto=news\">hide</a> | <a href=\"item?id=24898210\">39&nbsp;comments</a>              </td></tr>\n",
            "      <tr class=\"spacer\" style=\"height:5px\"></tr>\n",
            "                <tr class='athing' id='24897641'>\n",
            "      <td align=\"right\" valign=\"top\" class=\"title\"><span class=\"rank\">4.</span></td>      <td valign=\"top\" class=\"votelinks\"><center><a id='up_24897641' href='vote?id=24897641&amp;how=up&amp;goto=news'><div class='votearrow' title='upvote'></div></a></center></td><td class=\"title\"><a href=\"https://bytecodealliance.org/articles/1-year-update#the-lucet-and-wasmtime-teams-join-forces\" class=\"storylink\">Fastly hires entire Wasmtime team from Mozilla</a><span class=\"sitebit comhead\"> (<a href=\"from?site=bytecodealliance.org\"><span class=\"sitestr\">bytecodealliance.org</span></a>)</span></td></tr><tr><td colspan=\"2\"></td><td class=\"subtext\">\n",
            "        <span class=\"score\" id=\"score_24897641\">190 points</span> by <a href=\"user?id=swyx\" class=\"hnuser\">swyx</a> <span class=\"age\"><a href=\"item?id=24897641\">4 hours ago</a></span> <span id=\"unv_24897641\"></span> | <a href=\"hide?id=24897641&amp;goto=news\">hide</a> | <a href=\"item?id=24897641\">27&nbsp;comments</a>              </td></tr>\n",
            "      <tr class=\"spacer\" style=\"height:5px\"></tr>\n",
            "                <tr class='athing' id='24894622'>\n",
            "      <td align=\"right\" valign=\"top\" class=\"title\"><span class=\"rank\">5.</span></td>      <td valign=\"top\" class=\"votelinks\"><center><a id='up_24894622' href='vote?id=24894622&amp;how=up&amp;goto=news'><div class='votearrow' title='upvote'></div></a></center></td><td class=\"title\"><a href=\"https://www.reuters.com/article/us-health-coronavirus-astrazeneca-vaccin/oxford-covid-19-vaccine-prompts-immune-response-among-adults-old-and-young-astrazeneca-says-idUSKBN27B0IV\" class=\"storylink\">Vaccine hopes rise as Oxford jab prompts immune response among old and young</a><span class=\"sitebit comhead\"> (<a href=\"from?site=reuters.com\"><span class=\"sitestr\">reuters.com</span></a>)</span></td></tr><tr><td colspan=\"2\"></td><td class=\"subtext\">\n",
            "        <span class=\"score\" id=\"score_24894622\">695 points</span> by <a href=\"user?id=pseudolus\" class=\"hnuser\">pseudolus</a> <span class=\"age\"><a href=\"item?id=24894622\">10 hours ago</a></span> <span id=\"unv_24894622\"></span> | <a href=\"hide?id=24894622&amp;goto=news\">hide</a> | <a href=\"item?id=24894622\">515&nbsp;comments</a>              </td></tr>\n",
            "      <tr class=\"spacer\" style=\"height:5px\"></tr>\n",
            "                <tr class='athing' id='24900840'>\n",
            "      <td align=\"right\" valign=\"top\" class=\"title\"><span class=\"rank\">6.</span></td>      <td valign=\"top\" class=\"votelinks\"><center><a id='up_24900840' href='vote?id=24900840&amp;how=up&amp;goto=news'><div class='votearrow' title='upvote'></div></a></center></td><td class=\"title\"><a href=\"https://debugger.medium.com/what-restoring-a-30-year-old-nintendo-taught-me-about-right-to-repair-3bffdf548f6d\" class=\"storylink\">A tale from the trenches fixing an NES</a><span class=\"sitebit comhead\"> (<a href=\"from?site=debugger.medium.com\"><span class=\"sitestr\">debugger.medium.com</span></a>)</span></td></tr><tr><td colspan=\"2\"></td><td class=\"subtext\">\n",
            "        <span class=\"score\" id=\"score_24900840\">13 points</span> by <a href=\"user?id=pslattery\" class=\"hnuser\">pslattery</a> <span class=\"age\"><a href=\"item?id=24900840\">37 minutes ago</a></span> <span id=\"unv_24900840\"></span> | <a href=\"hide?id=24900840&amp;goto=news\">hide</a> | <a href=\"item?id=24900840\">discuss</a>              </td></tr>\n",
            "      <tr class=\"spacer\" style=\"height:5px\"></tr>\n",
            "                <tr class='athing' id='24898373'>\n",
            "      <td align=\"right\" valign=\"top\" class=\"title\"><span class=\"rank\">7.</span></td>      <td valign=\"top\" class=\"votelinks\"><center><a id='up_24898373' href='vote?id=24898373&amp;how=up&amp;goto=news'><div class='votearrow' title='upvote'></div></a></center></td><td class=\"title\"><a href=\"https://dendron.so\" class=\"storylink\">Show HN: Dendron – A Hierarchical Tool for Thought</a><span class=\"sitebit comhead\"> (<a href=\"from?site=dendron.so\"><span class=\"sitestr\">dendron.so</span></a>)</span></td></tr><tr><td colspan=\"2\"></td><td class=\"subtext\">\n",
            "        <span class=\"score\" id=\"score_24898373\">109 points</span> by <a href=\"user?id=kevinslin\" class=\"hnuser\">kevinslin</a> <span class=\"age\"><a href=\"item?id=24898373\">3 hours ago</a></span> <span id=\"unv_24898373\"></span> | <a href=\"hide?id=24898373&amp;goto=news\">hide</a> | <a href=\"item?id=24898373\">53&nbsp;comments</a>              </td></tr>\n",
            "      <tr class=\"spacer\" style=\"height:5px\"></tr>\n",
            "                <tr class='athing' id='24898772'>\n",
            "      <td align=\"right\" valign=\"top\" class=\"title\"><span class=\"rank\">8.</span></td>      <td valign=\"top\" class=\"votelinks\"><center><a id='up_24898772' href='vote?id=24898772&amp;how=up&amp;goto=news'><div class='votearrow' title='upvote'></div></a></center></td><td class=\"title\"><a href=\"https://spectrum.ieee.org/the-human-os/biomedical/devices/deep-brain-control-without-implants\" class=\"storylink\">No Implants Needed for Precise Control Deep into the Brain</a><span class=\"sitebit comhead\"> (<a href=\"from?site=ieee.org\"><span class=\"sitestr\">ieee.org</span></a>)</span></td></tr><tr><td colspan=\"2\"></td><td class=\"subtext\">\n",
            "        <span class=\"score\" id=\"score_24898772\">92 points</span> by <a href=\"user?id=headalgorithm\" class=\"hnuser\">headalgorithm</a> <span class=\"age\"><a href=\"item?id=24898772\">3 hours ago</a></span> <span id=\"unv_24898772\"></span> | <a href=\"hide?id=24898772&amp;goto=news\">hide</a> | <a href=\"item?id=24898772\">43&nbsp;comments</a>              </td></tr>\n",
            "      <tr class=\"spacer\" style=\"height:5px\"></tr>\n",
            "                <tr class='athing' id='24864087'>\n",
            "      <td align=\"right\" valign=\"top\" class=\"title\"><span class=\"rank\">9.</span></td>      <td valign=\"top\" class=\"votelinks\"><center><a id='up_24864087' href='vote?id=24864087&amp;how=up&amp;goto=news'><div class='votearrow' title='upvote'></div></a></center></td><td class=\"title\"><a href=\"https://dl.acm.org/doi/pdf/10.1145/3276490\" class=\"storylink\">Julia: Dynamism and Performance Reconciled by Design (2018)</a><span class=\"sitebit comhead\"> (<a href=\"from?site=acm.org\"><span class=\"sitestr\">acm.org</span></a>)</span></td></tr><tr><td colspan=\"2\"></td><td class=\"subtext\">\n",
            "        <span class=\"score\" id=\"score_24864087\">25 points</span> by <a href=\"user?id=bshanks\" class=\"hnuser\">bshanks</a> <span class=\"age\"><a href=\"item?id=24864087\">2 hours ago</a></span> <span id=\"unv_24864087\"></span> | <a href=\"hide?id=24864087&amp;goto=news\">hide</a> | <a href=\"item?id=24864087\">7&nbsp;comments</a>              </td></tr>\n",
            "      <tr class=\"spacer\" style=\"height:5px\"></tr>\n",
            "                <tr class='athing' id='24899256'>\n",
            "      <td align=\"right\" valign=\"top\" class=\"title\"><span class=\"rank\">10.</span></td>      <td valign=\"top\" class=\"votelinks\"><center><a id='up_24899256' href='vote?id=24899256&amp;how=up&amp;goto=news'><div class='votearrow' title='upvote'></div></a></center></td><td class=\"title\"><a href=\"https://www.charlieharrington.com/unexpected-useless-and-urgent\" class=\"storylink\">Unexpected, Useless, and Urgent, or What RSS Gets Right</a><span class=\"sitebit comhead\"> (<a href=\"from?site=charlieharrington.com\"><span class=\"sitestr\">charlieharrington.com</span></a>)</span></td></tr><tr><td colspan=\"2\"></td><td class=\"subtext\">\n",
            "        <span class=\"score\" id=\"score_24899256\">37 points</span> by <a href=\"user?id=whatrocks\" class=\"hnuser\">whatrocks</a> <span class=\"age\"><a href=\"item?id=24899256\">2 hours ago</a></span> <span id=\"unv_24899256\"></span> | <a href=\"hide?id=24899256&amp;goto=news\">hide</a> | <a href=\"item?id=24899256\">9&nbsp;comments</a>              </td></tr>\n",
            "      <tr class=\"spacer\" style=\"height:5px\"></tr>\n",
            "                <tr class='athing' id='24899186'>\n",
            "      <td align=\"right\" valign=\"top\" class=\"title\"><span class=\"rank\">11.</span></td>      <td valign=\"top\" class=\"votelinks\"><center><a id='up_24899186' href='vote?id=24899186&amp;how=up&amp;goto=news'><div class='votearrow' title='upvote'></div></a></center></td><td class=\"title\"><a href=\"https://www.melovedata.com/twitter-still-hasnt-unlocked-the-new-york-posts-account/\" class=\"storylink\">Twitter still hasn't unlocked the New York Post's account</a><span class=\"sitebit comhead\"> (<a href=\"from?site=melovedata.com\"><span class=\"sitestr\">melovedata.com</span></a>)</span></td></tr><tr><td colspan=\"2\"></td><td class=\"subtext\">\n",
            "        <span class=\"score\" id=\"score_24899186\">402 points</span> by <a href=\"user?id=dsaavy\" class=\"hnuser\">dsaavy</a> <span class=\"age\"><a href=\"item?id=24899186\">2 hours ago</a></span> <span id=\"unv_24899186\"></span> | <a href=\"hide?id=24899186&amp;goto=news\">hide</a> | <a href=\"item?id=24899186\">408&nbsp;comments</a>              </td></tr>\n",
            "      <tr class=\"spacer\" style=\"height:5px\"></tr>\n",
            "                <tr class='athing' id='24892874'>\n",
            "      <td align=\"right\" valign=\"top\" class=\"title\"><span class=\"rank\">12.</span></td>      <td valign=\"top\" class=\"votelinks\"><center><a id='up_24892874' href='vote?id=24892874&amp;how=up&amp;goto=news'><div class='votearrow' title='upvote'></div></a></center></td><td class=\"title\"><a href=\"https://www.verica.io/the-chaos-engineering-book/\" class=\"storylink\">The Chaos Engineering Book</a><span class=\"sitebit comhead\"> (<a href=\"from?site=verica.io\"><span class=\"sitestr\">verica.io</span></a>)</span></td></tr><tr><td colspan=\"2\"></td><td class=\"subtext\">\n",
            "        <span class=\"score\" id=\"score_24892874\">69 points</span> by <a href=\"user?id=talonx\" class=\"hnuser\">talonx</a> <span class=\"age\"><a href=\"item?id=24892874\">4 hours ago</a></span> <span id=\"unv_24892874\"></span> | <a href=\"hide?id=24892874&amp;goto=news\">hide</a> | <a href=\"item?id=24892874\">4&nbsp;comments</a>              </td></tr>\n",
            "      <tr class=\"spacer\" style=\"height:5px\"></tr>\n",
            "                <tr class='athing' id='24885501'>\n",
            "      <td align=\"right\" valign=\"top\" class=\"title\"><span class=\"rank\">13.</span></td>      <td valign=\"top\" class=\"votelinks\"><center><a id='up_24885501' href='vote?id=24885501&amp;how=up&amp;goto=news'><div class='votearrow' title='upvote'></div></a></center></td><td class=\"title\"><a href=\"https://pubmed.ncbi.nlm.nih.gov/29956364/\" class=\"storylink\">Availability of cookies affects evaluation of teaching</a><span class=\"sitebit comhead\"> (<a href=\"from?site=nih.gov\"><span class=\"sitestr\">nih.gov</span></a>)</span></td></tr><tr><td colspan=\"2\"></td><td class=\"subtext\">\n",
            "        <span class=\"score\" id=\"score_24885501\">9 points</span> by <a href=\"user?id=polm23\" class=\"hnuser\">polm23</a> <span class=\"age\"><a href=\"item?id=24885501\">1 hour ago</a></span> <span id=\"unv_24885501\"></span> | <a href=\"hide?id=24885501&amp;goto=news\">hide</a> | <a href=\"item?id=24885501\">2&nbsp;comments</a>              </td></tr>\n",
            "      <tr class=\"spacer\" style=\"height:5px\"></tr>\n",
            "                <tr class='athing' id='24898341'>\n",
            "      <td align=\"right\" valign=\"top\" class=\"title\"><span class=\"rank\">14.</span></td>      <td></td><td class=\"title\"><a href=\"https://jobs.lever.co/newfrontinsurance/1ef7d406-b918-4232-a816-337856cdbc33\" class=\"storylink\" rel=\"nofollow\">Newfront (YC W18) is hiring Sr Engineers to transform insurance</a><span class=\"sitebit comhead\"> (<a href=\"from?site=lever.co\"><span class=\"sitestr\">lever.co</span></a>)</span></td></tr><tr><td colspan=\"2\"></td><td class=\"subtext\">\n",
            "        <span class=\"age\"><a href=\"item?id=24898341\">3 hours ago</a></span> | <a href=\"hide?id=24898341&amp;goto=news\">hide</a>      </td></tr>\n",
            "      <tr class=\"spacer\" style=\"height:5px\"></tr>\n",
            "                <tr class='athing' id='24900802'>\n",
            "      <td align=\"right\" valign=\"top\" class=\"title\"><span class=\"rank\">15.</span></td>      <td valign=\"top\" class=\"votelinks\"><center><a id='up_24900802' href='vote?id=24900802&amp;how=up&amp;goto=news'><div class='votearrow' title='upvote'></div></a></center></td><td class=\"title\"><a href=\"https://web.eecs.utk.edu/~azh/blog/parsingriscv.html\" class=\"storylink\" rel=\"nofollow\">Parsing RISC-V assembly</a><span class=\"sitebit comhead\"> (<a href=\"from?site=utk.edu\"><span class=\"sitestr\">utk.edu</span></a>)</span></td></tr><tr><td colspan=\"2\"></td><td class=\"subtext\">\n",
            "        <span class=\"score\" id=\"score_24900802\">14 points</span> by <a href=\"user?id=azhenley\" class=\"hnuser\">azhenley</a> <span class=\"age\"><a href=\"item?id=24900802\">40 minutes ago</a></span> <span id=\"unv_24900802\"></span> | <a href=\"hide?id=24900802&amp;goto=news\">hide</a> | <a href=\"item?id=24900802\">discuss</a>              </td></tr>\n",
            "      <tr class=\"spacer\" style=\"height:5px\"></tr>\n",
            "                <tr class='athing' id='24900740'>\n",
            "      <td align=\"right\" valign=\"top\" class=\"title\"><span class=\"rank\">16.</span></td>      <td valign=\"top\" class=\"votelinks\"><center><a id='up_24900740' href='vote?id=24900740&amp;how=up&amp;goto=news'><div class='votearrow' title='upvote'></div></a></center></td><td class=\"title\"><a href=\"https://www.statista.com/chart/19556/cities-on-housing-bubble-index/\" class=\"storylink\" rel=\"nofollow\">Which Cities Have the Highest Risk of a Housing Bubble?</a><span class=\"sitebit comhead\"> (<a href=\"from?site=statista.com\"><span class=\"sitestr\">statista.com</span></a>)</span></td></tr><tr><td colspan=\"2\"></td><td class=\"subtext\">\n",
            "        <span class=\"score\" id=\"score_24900740\">13 points</span> by <a href=\"user?id=jman1234\" class=\"hnuser\">jman1234</a> <span class=\"age\"><a href=\"item?id=24900740\">44 minutes ago</a></span> <span id=\"unv_24900740\"></span> | <a href=\"hide?id=24900740&amp;goto=news\">hide</a> | <a href=\"item?id=24900740\">6&nbsp;comments</a>              </td></tr>\n",
            "      <tr class=\"spacer\" style=\"height:5px\"></tr>\n",
            "                <tr class='athing' id='24898016'>\n",
            "      <td align=\"right\" valign=\"top\" class=\"title\"><span class=\"rank\">17.</span></td>      <td valign=\"top\" class=\"votelinks\"><center><a id='up_24898016' href='vote?id=24898016&amp;how=up&amp;goto=news'><div class='votearrow' title='upvote'></div></a></center></td><td class=\"title\"><a href=\"https://qoob.cc/web-scraping/\" class=\"storylink\">Web Scraping with JavaScript</a><span class=\"sitebit comhead\"> (<a href=\"from?site=qoob.cc\"><span class=\"sitestr\">qoob.cc</span></a>)</span></td></tr><tr><td colspan=\"2\"></td><td class=\"subtext\">\n",
            "        <span class=\"score\" id=\"score_24898016\">65 points</span> by <a href=\"user?id=paulpro\" class=\"hnuser\">paulpro</a> <span class=\"age\"><a href=\"item?id=24898016\">4 hours ago</a></span> <span id=\"unv_24898016\"></span> | <a href=\"hide?id=24898016&amp;goto=news\">hide</a> | <a href=\"item?id=24898016\">41&nbsp;comments</a>              </td></tr>\n",
            "      <tr class=\"spacer\" style=\"height:5px\"></tr>\n",
            "                <tr class='athing' id='24897326'>\n",
            "      <td align=\"right\" valign=\"top\" class=\"title\"><span class=\"rank\">18.</span></td>      <td valign=\"top\" class=\"votelinks\"><center><a id='up_24897326' href='vote?id=24897326&amp;how=up&amp;goto=news'><div class='votearrow' title='upvote'></div></a></center></td><td class=\"title\"><a href=\"https://colin-macleod.blogspot.com/2020/10/why-im-tcl-ish.html\" class=\"storylink\">Why I'm Tcl-Ish</a><span class=\"sitebit comhead\"> (<a href=\"from?site=colin-macleod.blogspot.com\"><span class=\"sitestr\">colin-macleod.blogspot.com</span></a>)</span></td></tr><tr><td colspan=\"2\"></td><td class=\"subtext\">\n",
            "        <span class=\"score\" id=\"score_24897326\">93 points</span> by <a href=\"user?id=blacksqr\" class=\"hnuser\">blacksqr</a> <span class=\"age\"><a href=\"item?id=24897326\">5 hours ago</a></span> <span id=\"unv_24897326\"></span> | <a href=\"hide?id=24897326&amp;goto=news\">hide</a> | <a href=\"item?id=24897326\">63&nbsp;comments</a>              </td></tr>\n",
            "      <tr class=\"spacer\" style=\"height:5px\"></tr>\n",
            "                <tr class='athing' id='24896650'>\n",
            "      <td align=\"right\" valign=\"top\" class=\"title\"><span class=\"rank\">19.</span></td>      <td valign=\"top\" class=\"votelinks\"><center><a id='up_24896650' href='vote?id=24896650&amp;how=up&amp;goto=news'><div class='votearrow' title='upvote'></div></a></center></td><td class=\"title\"><a href=\"https://www.spakhm.com/p/surviving-disillusionment\" class=\"storylink\">Surviving Disillusionment</a><span class=\"sitebit comhead\"> (<a href=\"from?site=spakhm.com\"><span class=\"sitestr\">spakhm.com</span></a>)</span></td></tr><tr><td colspan=\"2\"></td><td class=\"subtext\">\n",
            "        <span class=\"score\" id=\"score_24896650\">180 points</span> by <a href=\"user?id=mwcampbell\" class=\"hnuser\">mwcampbell</a> <span class=\"age\"><a href=\"item?id=24896650\">6 hours ago</a></span> <span id=\"unv_24896650\"></span> | <a href=\"hide?id=24896650&amp;goto=news\">hide</a> | <a href=\"item?id=24896650\">93&nbsp;comments</a>              </td></tr>\n",
            "      <tr class=\"spacer\" style=\"height:5px\"></tr>\n",
            "                <tr class='athing' id='24900382'>\n",
            "      <td align=\"right\" valign=\"top\" class=\"title\"><span class=\"rank\">20.</span></td>      <td valign=\"top\" class=\"votelinks\"><center><a id='up_24900382' href='vote?id=24900382&amp;how=up&amp;goto=news'><div class='votearrow' title='upvote'></div></a></center></td><td class=\"title\"><a href=\"http://cushychicken.github.io/what-to-say-when-asked-salary-history/\" class=\"storylink\">What to Say When You're Asked for Your Salary History</a><span class=\"sitebit comhead\"> (<a href=\"from?site=cushychicken.github.io\"><span class=\"sitestr\">cushychicken.github.io</span></a>)</span></td></tr><tr><td colspan=\"2\"></td><td class=\"subtext\">\n",
            "        <span class=\"score\" id=\"score_24900382\">45 points</span> by <a href=\"user?id=cushychicken\" class=\"hnuser\">cushychicken</a> <span class=\"age\"><a href=\"item?id=24900382\">1 hour ago</a></span> <span id=\"unv_24900382\"></span> | <a href=\"hide?id=24900382&amp;goto=news\">hide</a> | <a href=\"item?id=24900382\">47&nbsp;comments</a>              </td></tr>\n",
            "      <tr class=\"spacer\" style=\"height:5px\"></tr>\n",
            "                <tr class='athing' id='24888307'>\n",
            "      <td align=\"right\" valign=\"top\" class=\"title\"><span class=\"rank\">21.</span></td>      <td valign=\"top\" class=\"votelinks\"><center><a id='up_24888307' href='vote?id=24888307&amp;how=up&amp;goto=news'><div class='votearrow' title='upvote'></div></a></center></td><td class=\"title\"><a href=\"https://github.com/rust-osdev/uefi-rs\" class=\"storylink\">UEFI-rs: Write UEFI applications in Rust</a><span class=\"sitebit comhead\"> (<a href=\"from?site=github.com/rust-osdev\"><span class=\"sitestr\">github.com/rust-osdev</span></a>)</span></td></tr><tr><td colspan=\"2\"></td><td class=\"subtext\">\n",
            "        <span class=\"score\" id=\"score_24888307\">66 points</span> by <a href=\"user?id=mmastrac\" class=\"hnuser\">mmastrac</a> <span class=\"age\"><a href=\"item?id=24888307\">5 hours ago</a></span> <span id=\"unv_24888307\"></span> | <a href=\"hide?id=24888307&amp;goto=news\">hide</a> | <a href=\"item?id=24888307\">6&nbsp;comments</a>              </td></tr>\n",
            "      <tr class=\"spacer\" style=\"height:5px\"></tr>\n",
            "                <tr class='athing' id='24897812'>\n",
            "      <td align=\"right\" valign=\"top\" class=\"title\"><span class=\"rank\">22.</span></td>      <td valign=\"top\" class=\"votelinks\"><center><a id='up_24897812' href='vote?id=24897812&amp;how=up&amp;goto=news'><div class='votearrow' title='upvote'></div></a></center></td><td class=\"title\"><a href=\"https://nat.app/calendar\" class=\"storylink\">Show HN: Personal CRM: Note taking, the way it should be</a><span class=\"sitebit comhead\"> (<a href=\"from?site=nat.app\"><span class=\"sitestr\">nat.app</span></a>)</span></td></tr><tr><td colspan=\"2\"></td><td class=\"subtext\">\n",
            "        <span class=\"score\" id=\"score_24897812\">106 points</span> by <a href=\"user?id=nathanganser\" class=\"hnuser\">nathanganser</a> <span class=\"age\"><a href=\"item?id=24897812\">4 hours ago</a></span> <span id=\"unv_24897812\"></span> | <a href=\"hide?id=24897812&amp;goto=news\">hide</a> | <a href=\"item?id=24897812\">54&nbsp;comments</a>              </td></tr>\n",
            "      <tr class=\"spacer\" style=\"height:5px\"></tr>\n",
            "                <tr class='athing' id='24894248'>\n",
            "      <td align=\"right\" valign=\"top\" class=\"title\"><span class=\"rank\">23.</span></td>      <td valign=\"top\" class=\"votelinks\"><center><a id='up_24894248' href='vote?id=24894248&amp;how=up&amp;goto=news'><div class='votearrow' title='upvote'></div></a></center></td><td class=\"title\"><a href=\"https://www.theguardian.com/society/2020/oct/24/culture-wars-are-fought-by-tiny-minority-uk-study\" class=\"storylink\">‘Culture wars’ are fought by tiny minority – UK study</a><span class=\"sitebit comhead\"> (<a href=\"from?site=theguardian.com\"><span class=\"sitestr\">theguardian.com</span></a>)</span></td></tr><tr><td colspan=\"2\"></td><td class=\"subtext\">\n",
            "        <span class=\"score\" id=\"score_24894248\">358 points</span> by <a href=\"user?id=archiepeach\" class=\"hnuser\">archiepeach</a> <span class=\"age\"><a href=\"item?id=24894248\">11 hours ago</a></span> <span id=\"unv_24894248\"></span> | <a href=\"hide?id=24894248&amp;goto=news\">hide</a> | <a href=\"item?id=24894248\">452&nbsp;comments</a>              </td></tr>\n",
            "      <tr class=\"spacer\" style=\"height:5px\"></tr>\n",
            "                <tr class='athing' id='24899220'>\n",
            "      <td align=\"right\" valign=\"top\" class=\"title\"><span class=\"rank\">24.</span></td>      <td valign=\"top\" class=\"votelinks\"><center><a id='up_24899220' href='vote?id=24899220&amp;how=up&amp;goto=news'><div class='votearrow' title='upvote'></div></a></center></td><td class=\"title\"><a href=\"https://av.jpn.support.panasonic.com/support/global/cs/dsc/knowhow/index.html\" class=\"storylink\">Digital Camera Know-Hows</a><span class=\"sitebit comhead\"> (<a href=\"from?site=panasonic.com\"><span class=\"sitestr\">panasonic.com</span></a>)</span></td></tr><tr><td colspan=\"2\"></td><td class=\"subtext\">\n",
            "        <span class=\"score\" id=\"score_24899220\">21 points</span> by <a href=\"user?id=IndySun\" class=\"hnuser\">IndySun</a> <span class=\"age\"><a href=\"item?id=24899220\">2 hours ago</a></span> <span id=\"unv_24899220\"></span> | <a href=\"hide?id=24899220&amp;goto=news\">hide</a> | <a href=\"item?id=24899220\">4&nbsp;comments</a>              </td></tr>\n",
            "      <tr class=\"spacer\" style=\"height:5px\"></tr>\n",
            "                <tr class='athing' id='24900197'>\n",
            "      <td align=\"right\" valign=\"top\" class=\"title\"><span class=\"rank\">25.</span></td>      <td valign=\"top\" class=\"votelinks\"><center><a id='up_24900197' href='vote?id=24900197&amp;how=up&amp;goto=news'><div class='votearrow' title='upvote'></div></a></center></td><td class=\"title\"><a href=\"https://github.com/domenp/aircal\" class=\"storylink\">Show HN: Visualize Airflow's schedule by exporting future DAG runs to GCalendar</a><span class=\"sitebit comhead\"> (<a href=\"from?site=github.com/domenp\"><span class=\"sitestr\">github.com/domenp</span></a>)</span></td></tr><tr><td colspan=\"2\"></td><td class=\"subtext\">\n",
            "        <span class=\"score\" id=\"score_24900197\">10 points</span> by <a href=\"user?id=domenp\" class=\"hnuser\">domenp</a> <span class=\"age\"><a href=\"item?id=24900197\">1 hour ago</a></span> <span id=\"unv_24900197\"></span> | <a href=\"hide?id=24900197&amp;goto=news\">hide</a> | <a href=\"item?id=24900197\">3&nbsp;comments</a>              </td></tr>\n",
            "      <tr class=\"spacer\" style=\"height:5px\"></tr>\n",
            "                <tr class='athing' id='24897279'>\n",
            "      <td align=\"right\" valign=\"top\" class=\"title\"><span class=\"rank\">26.</span></td>      <td valign=\"top\" class=\"votelinks\"><center><a id='up_24897279' href='vote?id=24897279&amp;how=up&amp;goto=news'><div class='votearrow' title='upvote'></div></a></center></td><td class=\"title\"><a href=\"https://matthewkaras.medium.com/25-years-in-speech-technology-d5f9dfd98429\" class=\"storylink\">25 Years In Speech Technology and I still don’t talk to my computer</a><span class=\"sitebit comhead\"> (<a href=\"from?site=matthewkaras.medium.com\"><span class=\"sitestr\">matthewkaras.medium.com</span></a>)</span></td></tr><tr><td colspan=\"2\"></td><td class=\"subtext\">\n",
            "        <span class=\"score\" id=\"score_24897279\">202 points</span> by <a href=\"user?id=samizdis\" class=\"hnuser\">samizdis</a> <span class=\"age\"><a href=\"item?id=24897279\">5 hours ago</a></span> <span id=\"unv_24897279\"></span> | <a href=\"hide?id=24897279&amp;goto=news\">hide</a> | <a href=\"item?id=24897279\">236&nbsp;comments</a>              </td></tr>\n",
            "      <tr class=\"spacer\" style=\"height:5px\"></tr>\n",
            "                <tr class='athing' id='24878116'>\n",
            "      <td align=\"right\" valign=\"top\" class=\"title\"><span class=\"rank\">27.</span></td>      <td valign=\"top\" class=\"votelinks\"><center><a id='up_24878116' href='vote?id=24878116&amp;how=up&amp;goto=news'><div class='votearrow' title='upvote'></div></a></center></td><td class=\"title\"><a href=\"https://ai.googleblog.com/2020/10/rethinking-attention-with-performers.html\" class=\"storylink\">Rethinking Attention with Performers</a><span class=\"sitebit comhead\"> (<a href=\"from?site=googleblog.com\"><span class=\"sitestr\">googleblog.com</span></a>)</span></td></tr><tr><td colspan=\"2\"></td><td class=\"subtext\">\n",
            "        <span class=\"score\" id=\"score_24878116\">174 points</span> by <a href=\"user?id=headalgorithm\" class=\"hnuser\">headalgorithm</a> <span class=\"age\"><a href=\"item?id=24878116\">10 hours ago</a></span> <span id=\"unv_24878116\"></span> | <a href=\"hide?id=24878116&amp;goto=news\">hide</a> | <a href=\"item?id=24878116\">45&nbsp;comments</a>              </td></tr>\n",
            "      <tr class=\"spacer\" style=\"height:5px\"></tr>\n",
            "                <tr class='athing' id='24898990'>\n",
            "      <td align=\"right\" valign=\"top\" class=\"title\"><span class=\"rank\">28.</span></td>      <td valign=\"top\" class=\"votelinks\"><center><a id='up_24898990' href='vote?id=24898990&amp;how=up&amp;goto=news'><div class='votearrow' title='upvote'></div></a></center></td><td class=\"title\"><a href=\"https://www.statista.com/chart/19256/the-most-surveilled-cities-in-the-world/\" class=\"storylink\">The Most Surveilled Cities in the World</a><span class=\"sitebit comhead\"> (<a href=\"from?site=statista.com\"><span class=\"sitestr\">statista.com</span></a>)</span></td></tr><tr><td colspan=\"2\"></td><td class=\"subtext\">\n",
            "        <span class=\"score\" id=\"score_24898990\">57 points</span> by <a href=\"user?id=giuliomagnifico\" class=\"hnuser\">giuliomagnifico</a> <span class=\"age\"><a href=\"item?id=24898990\">2 hours ago</a></span> <span id=\"unv_24898990\"></span> | <a href=\"hide?id=24898990&amp;goto=news\">hide</a> | <a href=\"item?id=24898990\">41&nbsp;comments</a>              </td></tr>\n",
            "      <tr class=\"spacer\" style=\"height:5px\"></tr>\n",
            "                <tr class='athing' id='24897633'>\n",
            "      <td align=\"right\" valign=\"top\" class=\"title\"><span class=\"rank\">29.</span></td>      <td valign=\"top\" class=\"votelinks\"><center><a id='up_24897633' href='vote?id=24897633&amp;how=up&amp;goto=news'><div class='votearrow' title='upvote'></div></a></center></td><td class=\"title\"><a href=\"https://bytecodealliance.org/articles/1-year-update\" class=\"storylink\">Bytecode Alliance: One year update</a><span class=\"sitebit comhead\"> (<a href=\"from?site=bytecodealliance.org\"><span class=\"sitestr\">bytecodealliance.org</span></a>)</span></td></tr><tr><td colspan=\"2\"></td><td class=\"subtext\">\n",
            "        <span class=\"score\" id=\"score_24897633\">27 points</span> by <a href=\"user?id=patrickmcmanus\" class=\"hnuser\">patrickmcmanus</a> <span class=\"age\"><a href=\"item?id=24897633\">3 hours ago</a></span> <span id=\"unv_24897633\"></span> | <a href=\"hide?id=24897633&amp;goto=news\">hide</a> | <a href=\"item?id=24897633\">2&nbsp;comments</a>              </td></tr>\n",
            "      <tr class=\"spacer\" style=\"height:5px\"></tr>\n",
            "                <tr class='athing' id='24900145'>\n",
            "      <td align=\"right\" valign=\"top\" class=\"title\"><span class=\"rank\">30.</span></td>      <td valign=\"top\" class=\"votelinks\"><center><a id='up_24900145' href='vote?id=24900145&amp;how=up&amp;goto=news'><div class='votearrow' title='upvote'></div></a></center></td><td class=\"title\"><a href=\"https://blog.pragmaticengineer.com/advice-to-myself-when-starting-as-a-software-developer/\" class=\"storylink\" rel=\"nofollow\">Developer Advice to Self</a><span class=\"sitebit comhead\"> (<a href=\"from?site=pragmaticengineer.com\"><span class=\"sitestr\">pragmaticengineer.com</span></a>)</span></td></tr><tr><td colspan=\"2\"></td><td class=\"subtext\">\n",
            "        <span class=\"score\" id=\"score_24900145\">6 points</span> by <a href=\"user?id=jerodsanto\" class=\"hnuser\">jerodsanto</a> <span class=\"age\"><a href=\"item?id=24900145\">1 hour ago</a></span> <span id=\"unv_24900145\"></span> | <a href=\"hide?id=24900145&amp;goto=news\">hide</a> | <a href=\"item?id=24900145\">discuss</a>              </td></tr>\n",
            "      <tr class=\"spacer\" style=\"height:5px\"></tr>\n",
            "            <tr class=\"morespace\" style=\"height:10px\"></tr><tr><td colspan=\"2\"></td><td class=\"title\"><a href=\"news?p=2\" class=\"morelink\" rel=\"next\">More</a></td></tr>\n",
            "  </table>\n",
            "</td></tr>\n",
            "<tr><td><img src=\"s.gif\" height=\"10\" width=\"0\"><table width=\"100%\" cellspacing=\"0\" cellpadding=\"1\"><tr><td bgcolor=\"#ff6600\"></td></tr></table><br><center><span class=\"yclinks\"><a href=\"newsguidelines.html\">Guidelines</a>\n",
            "        | <a href=\"newsfaq.html\">FAQ</a>\n",
            "        | <a href=\"mailto:hn@ycombinator.com\">Support</a>\n",
            "        | <a href=\"https://github.com/HackerNews/API\">API</a>\n",
            "        | <a href=\"security.html\">Security</a>\n",
            "        | <a href=\"lists\">Lists</a>\n",
            "        | <a href=\"bookmarklet.html\" rel=\"nofollow\">Bookmarklet</a>\n",
            "        | <a href=\"http://www.ycombinator.com/legal/\">Legal</a>\n",
            "        | <a href=\"http://www.ycombinator.com/apply/\">Apply to YC</a>\n",
            "        | <a href=\"mailto:hn@ycombinator.com\">Contact</a></span><br><br><form method=\"get\" action=\"//hn.algolia.com/\">Search:\n",
            "          <input type=\"text\" name=\"q\" value=\"\" size=\"17\" autocorrect=\"off\" spellcheck=\"false\" autocapitalize=\"off\" autocomplete=\"false\"></form>\n",
            "            </center></td></tr>\n",
            "      </table></center></body><script type='text/javascript' src='hn.js?soNUeJqjM49NBl6GCwMq'></script></html>\n",
            "\n"
          ],
          "name": "stdout"
        }
      ]
    },
    {
      "cell_type": "code",
      "metadata": {
        "id": "78q9ly1Wt7oq",
        "outputId": "00bd332d-250e-4d4f-fdfa-7afdb0fac995"
      },
      "source": [
        "import re\n",
        "\n",
        "# Remove HTML tags using RegEx\n",
        "pattern = re.compile(r'<.*?>')  # tags look like <...>\n",
        "print(pattern.sub('', r.text))  # replace them with blank"
      ],
      "execution_count": null,
      "outputs": [
        {
          "output_type": "stream",
          "text": [
            "\n",
            "        \n",
            "          \n",
            "        Hacker News\n",
            "        \n",
            "                  Hacker News\n",
            "              new | past | comments | ask | show | jobs | submit            \n",
            "                              login\n",
            "                          \n",
            "              \n",
            "\n",
            "              \n",
            "      1.      How journalists use youtube-dl, the media tool RIAA forced offline (freedom.press)\n",
            "        99 points by thisisparker 1 hour ago  | hide | 1&nbsp;comment              \n",
            "      \n",
            "                \n",
            "      2.      Apache Helix – Near-Realtime Rsync Replicated File System (apache.org)\n",
            "        140 points by GordonS 3 hours ago  | hide | 90&nbsp;comments              \n",
            "      \n",
            "                \n",
            "      3.      Parsing Algorithms (dmitrysoshnikov.com)\n",
            "        231 points by DmitrySoshnikov 4 hours ago  | hide | 39&nbsp;comments              \n",
            "      \n",
            "                \n",
            "      4.      Fastly hires entire Wasmtime team from Mozilla (bytecodealliance.org)\n",
            "        190 points by swyx 4 hours ago  | hide | 27&nbsp;comments              \n",
            "      \n",
            "                \n",
            "      5.      Vaccine hopes rise as Oxford jab prompts immune response among old and young (reuters.com)\n",
            "        695 points by pseudolus 10 hours ago  | hide | 515&nbsp;comments              \n",
            "      \n",
            "                \n",
            "      6.      A tale from the trenches fixing an NES (debugger.medium.com)\n",
            "        13 points by pslattery 37 minutes ago  | hide | discuss              \n",
            "      \n",
            "                \n",
            "      7.      Show HN: Dendron – A Hierarchical Tool for Thought (dendron.so)\n",
            "        109 points by kevinslin 3 hours ago  | hide | 53&nbsp;comments              \n",
            "      \n",
            "                \n",
            "      8.      No Implants Needed for Precise Control Deep into the Brain (ieee.org)\n",
            "        92 points by headalgorithm 3 hours ago  | hide | 43&nbsp;comments              \n",
            "      \n",
            "                \n",
            "      9.      Julia: Dynamism and Performance Reconciled by Design (2018) (acm.org)\n",
            "        25 points by bshanks 2 hours ago  | hide | 7&nbsp;comments              \n",
            "      \n",
            "                \n",
            "      10.      Unexpected, Useless, and Urgent, or What RSS Gets Right (charlieharrington.com)\n",
            "        37 points by whatrocks 2 hours ago  | hide | 9&nbsp;comments              \n",
            "      \n",
            "                \n",
            "      11.      Twitter still hasn't unlocked the New York Post's account (melovedata.com)\n",
            "        402 points by dsaavy 2 hours ago  | hide | 408&nbsp;comments              \n",
            "      \n",
            "                \n",
            "      12.      The Chaos Engineering Book (verica.io)\n",
            "        69 points by talonx 4 hours ago  | hide | 4&nbsp;comments              \n",
            "      \n",
            "                \n",
            "      13.      Availability of cookies affects evaluation of teaching (nih.gov)\n",
            "        9 points by polm23 1 hour ago  | hide | 2&nbsp;comments              \n",
            "      \n",
            "                \n",
            "      14.      Newfront (YC W18) is hiring Sr Engineers to transform insurance (lever.co)\n",
            "        3 hours ago | hide      \n",
            "      \n",
            "                \n",
            "      15.      Parsing RISC-V assembly (utk.edu)\n",
            "        14 points by azhenley 40 minutes ago  | hide | discuss              \n",
            "      \n",
            "                \n",
            "      16.      Which Cities Have the Highest Risk of a Housing Bubble? (statista.com)\n",
            "        13 points by jman1234 44 minutes ago  | hide | 6&nbsp;comments              \n",
            "      \n",
            "                \n",
            "      17.      Web Scraping with JavaScript (qoob.cc)\n",
            "        65 points by paulpro 4 hours ago  | hide | 41&nbsp;comments              \n",
            "      \n",
            "                \n",
            "      18.      Why I'm Tcl-Ish (colin-macleod.blogspot.com)\n",
            "        93 points by blacksqr 5 hours ago  | hide | 63&nbsp;comments              \n",
            "      \n",
            "                \n",
            "      19.      Surviving Disillusionment (spakhm.com)\n",
            "        180 points by mwcampbell 6 hours ago  | hide | 93&nbsp;comments              \n",
            "      \n",
            "                \n",
            "      20.      What to Say When You're Asked for Your Salary History (cushychicken.github.io)\n",
            "        45 points by cushychicken 1 hour ago  | hide | 47&nbsp;comments              \n",
            "      \n",
            "                \n",
            "      21.      UEFI-rs: Write UEFI applications in Rust (github.com/rust-osdev)\n",
            "        66 points by mmastrac 5 hours ago  | hide | 6&nbsp;comments              \n",
            "      \n",
            "                \n",
            "      22.      Show HN: Personal CRM: Note taking, the way it should be (nat.app)\n",
            "        106 points by nathanganser 4 hours ago  | hide | 54&nbsp;comments              \n",
            "      \n",
            "                \n",
            "      23.      ‘Culture wars’ are fought by tiny minority – UK study (theguardian.com)\n",
            "        358 points by archiepeach 11 hours ago  | hide | 452&nbsp;comments              \n",
            "      \n",
            "                \n",
            "      24.      Digital Camera Know-Hows (panasonic.com)\n",
            "        21 points by IndySun 2 hours ago  | hide | 4&nbsp;comments              \n",
            "      \n",
            "                \n",
            "      25.      Show HN: Visualize Airflow's schedule by exporting future DAG runs to GCalendar (github.com/domenp)\n",
            "        10 points by domenp 1 hour ago  | hide | 3&nbsp;comments              \n",
            "      \n",
            "                \n",
            "      26.      25 Years In Speech Technology and I still don’t talk to my computer (matthewkaras.medium.com)\n",
            "        202 points by samizdis 5 hours ago  | hide | 236&nbsp;comments              \n",
            "      \n",
            "                \n",
            "      27.      Rethinking Attention with Performers (googleblog.com)\n",
            "        174 points by headalgorithm 10 hours ago  | hide | 45&nbsp;comments              \n",
            "      \n",
            "                \n",
            "      28.      The Most Surveilled Cities in the World (statista.com)\n",
            "        57 points by giuliomagnifico 2 hours ago  | hide | 41&nbsp;comments              \n",
            "      \n",
            "                \n",
            "      29.      Bytecode Alliance: One year update (bytecodealliance.org)\n",
            "        27 points by patrickmcmanus 3 hours ago  | hide | 2&nbsp;comments              \n",
            "      \n",
            "                \n",
            "      30.      Developer Advice to Self (pragmaticengineer.com)\n",
            "        6 points by jerodsanto 1 hour ago  | hide | discuss              \n",
            "      \n",
            "            More\n",
            "  \n",
            "\n",
            "Guidelines\n",
            "        | FAQ\n",
            "        | Support\n",
            "        | API\n",
            "        | Security\n",
            "        | Lists\n",
            "        | Bookmarklet\n",
            "        | Legal\n",
            "        | Apply to YC\n",
            "        | ContactSearch:\n",
            "          \n",
            "            \n",
            "      \n",
            "\n"
          ],
          "name": "stdout"
        }
      ]
    },
    {
      "cell_type": "code",
      "metadata": {
        "id": "vLlXJ9Uut7os",
        "outputId": "d8137b5c-9492-4ab9-cf90-3f169a4f5bc6"
      },
      "source": [
        "from bs4 import BeautifulSoup\n",
        "\n",
        "# Remove HTML tags using Beautiful Soup library\n",
        "soup = BeautifulSoup(r.text, \"html5lib\")\n",
        "print(soup.get_text())"
      ],
      "execution_count": null,
      "outputs": [
        {
          "output_type": "stream",
          "text": [
            "\n",
            "        \n",
            "          \n",
            "        Hacker News\n",
            "        \n",
            "                  Hacker News\n",
            "              new | past | comments | ask | show | jobs | submit            \n",
            "                              login\n",
            "                          \n",
            "              \n",
            "\n",
            "              \n",
            "      1.      How journalists use youtube-dl, the media tool RIAA forced offline (freedom.press)\n",
            "        99 points by thisisparker 1 hour ago  | hide | 1 comment              \n",
            "      \n",
            "                \n",
            "      2.      Apache Helix – Near-Realtime Rsync Replicated File System (apache.org)\n",
            "        140 points by GordonS 3 hours ago  | hide | 90 comments              \n",
            "      \n",
            "                \n",
            "      3.      Parsing Algorithms (dmitrysoshnikov.com)\n",
            "        231 points by DmitrySoshnikov 4 hours ago  | hide | 39 comments              \n",
            "      \n",
            "                \n",
            "      4.      Fastly hires entire Wasmtime team from Mozilla (bytecodealliance.org)\n",
            "        190 points by swyx 4 hours ago  | hide | 27 comments              \n",
            "      \n",
            "                \n",
            "      5.      Vaccine hopes rise as Oxford jab prompts immune response among old and young (reuters.com)\n",
            "        695 points by pseudolus 10 hours ago  | hide | 515 comments              \n",
            "      \n",
            "                \n",
            "      6.      A tale from the trenches fixing an NES (debugger.medium.com)\n",
            "        13 points by pslattery 37 minutes ago  | hide | discuss              \n",
            "      \n",
            "                \n",
            "      7.      Show HN: Dendron – A Hierarchical Tool for Thought (dendron.so)\n",
            "        109 points by kevinslin 3 hours ago  | hide | 53 comments              \n",
            "      \n",
            "                \n",
            "      8.      No Implants Needed for Precise Control Deep into the Brain (ieee.org)\n",
            "        92 points by headalgorithm 3 hours ago  | hide | 43 comments              \n",
            "      \n",
            "                \n",
            "      9.      Julia: Dynamism and Performance Reconciled by Design (2018) (acm.org)\n",
            "        25 points by bshanks 2 hours ago  | hide | 7 comments              \n",
            "      \n",
            "                \n",
            "      10.      Unexpected, Useless, and Urgent, or What RSS Gets Right (charlieharrington.com)\n",
            "        37 points by whatrocks 2 hours ago  | hide | 9 comments              \n",
            "      \n",
            "                \n",
            "      11.      Twitter still hasn't unlocked the New York Post's account (melovedata.com)\n",
            "        402 points by dsaavy 2 hours ago  | hide | 408 comments              \n",
            "      \n",
            "                \n",
            "      12.      The Chaos Engineering Book (verica.io)\n",
            "        69 points by talonx 4 hours ago  | hide | 4 comments              \n",
            "      \n",
            "                \n",
            "      13.      Availability of cookies affects evaluation of teaching (nih.gov)\n",
            "        9 points by polm23 1 hour ago  | hide | 2 comments              \n",
            "      \n",
            "                \n",
            "      14.      Newfront (YC W18) is hiring Sr Engineers to transform insurance (lever.co)\n",
            "        3 hours ago | hide      \n",
            "      \n",
            "                \n",
            "      15.      Parsing RISC-V assembly (utk.edu)\n",
            "        14 points by azhenley 40 minutes ago  | hide | discuss              \n",
            "      \n",
            "                \n",
            "      16.      Which Cities Have the Highest Risk of a Housing Bubble? (statista.com)\n",
            "        13 points by jman1234 44 minutes ago  | hide | 6 comments              \n",
            "      \n",
            "                \n",
            "      17.      Web Scraping with JavaScript (qoob.cc)\n",
            "        65 points by paulpro 4 hours ago  | hide | 41 comments              \n",
            "      \n",
            "                \n",
            "      18.      Why I'm Tcl-Ish (colin-macleod.blogspot.com)\n",
            "        93 points by blacksqr 5 hours ago  | hide | 63 comments              \n",
            "      \n",
            "                \n",
            "      19.      Surviving Disillusionment (spakhm.com)\n",
            "        180 points by mwcampbell 6 hours ago  | hide | 93 comments              \n",
            "      \n",
            "                \n",
            "      20.      What to Say When You're Asked for Your Salary History (cushychicken.github.io)\n",
            "        45 points by cushychicken 1 hour ago  | hide | 47 comments              \n",
            "      \n",
            "                \n",
            "      21.      UEFI-rs: Write UEFI applications in Rust (github.com/rust-osdev)\n",
            "        66 points by mmastrac 5 hours ago  | hide | 6 comments              \n",
            "      \n",
            "                \n",
            "      22.      Show HN: Personal CRM: Note taking, the way it should be (nat.app)\n",
            "        106 points by nathanganser 4 hours ago  | hide | 54 comments              \n",
            "      \n",
            "                \n",
            "      23.      ‘Culture wars’ are fought by tiny minority – UK study (theguardian.com)\n",
            "        358 points by archiepeach 11 hours ago  | hide | 452 comments              \n",
            "      \n",
            "                \n",
            "      24.      Digital Camera Know-Hows (panasonic.com)\n",
            "        21 points by IndySun 2 hours ago  | hide | 4 comments              \n",
            "      \n",
            "                \n",
            "      25.      Show HN: Visualize Airflow's schedule by exporting future DAG runs to GCalendar (github.com/domenp)\n",
            "        10 points by domenp 1 hour ago  | hide | 3 comments              \n",
            "      \n",
            "                \n",
            "      26.      25 Years In Speech Technology and I still don’t talk to my computer (matthewkaras.medium.com)\n",
            "        202 points by samizdis 5 hours ago  | hide | 236 comments              \n",
            "      \n",
            "                \n",
            "      27.      Rethinking Attention with Performers (googleblog.com)\n",
            "        174 points by headalgorithm 10 hours ago  | hide | 45 comments              \n",
            "      \n",
            "                \n",
            "      28.      The Most Surveilled Cities in the World (statista.com)\n",
            "        57 points by giuliomagnifico 2 hours ago  | hide | 41 comments              \n",
            "      \n",
            "                \n",
            "      29.      Bytecode Alliance: One year update (bytecodealliance.org)\n",
            "        27 points by patrickmcmanus 3 hours ago  | hide | 2 comments              \n",
            "      \n",
            "                \n",
            "      30.      Developer Advice to Self (pragmaticengineer.com)\n",
            "        6 points by jerodsanto 1 hour ago  | hide | discuss              \n",
            "      \n",
            "            More\n",
            "  \n",
            "\n",
            "Guidelines\n",
            "        | FAQ\n",
            "        | Support\n",
            "        | API\n",
            "        | Security\n",
            "        | Lists\n",
            "        | Bookmarklet\n",
            "        | Legal\n",
            "        | Apply to YC\n",
            "        | ContactSearch:\n",
            "          \n",
            "            \n",
            "      \n",
            "\n"
          ],
          "name": "stdout"
        }
      ]
    },
    {
      "cell_type": "code",
      "metadata": {
        "scrolled": true,
        "id": "jxvUgHSlt7ow",
        "outputId": "7db8cadd-1723-4b1e-c7d1-5da400ac55d8"
      },
      "source": [
        "# Find all articles\n",
        "summaries = soup.find_all(\"tr\", class_=\"athing\")\n",
        "summaries[0]"
      ],
      "execution_count": null,
      "outputs": [
        {
          "output_type": "execute_result",
          "data": {
            "text/plain": [
              "<tr class=\"athing\" id=\"24899863\">\n",
              "      <td align=\"right\" class=\"title\" valign=\"top\"><span class=\"rank\">1.</span></td>      <td class=\"votelinks\" valign=\"top\"><center><a href=\"vote?id=24899863&amp;how=up&amp;goto=news\" id=\"up_24899863\"><div class=\"votearrow\" title=\"upvote\"></div></a></center></td><td class=\"title\"><a class=\"storylink\" href=\"https://freedom.press/news/riaa-github-youtube-dl-journalist-tool/\">How journalists use youtube-dl, the media tool RIAA forced offline</a><span class=\"sitebit comhead\"> (<a href=\"from?site=freedom.press\"><span class=\"sitestr\">freedom.press</span></a>)</span></td></tr>"
            ]
          },
          "metadata": {
            "tags": []
          },
          "execution_count": 7
        }
      ]
    },
    {
      "cell_type": "code",
      "metadata": {
        "id": "xUzIB2ult7oz",
        "outputId": "cf10eefa-29d4-457d-95b1-a13ae5f93841"
      },
      "source": [
        "# Extract title\n",
        "summaries[0].find(\"a\", class_=\"storylink\").get_text().strip()"
      ],
      "execution_count": null,
      "outputs": [
        {
          "output_type": "execute_result",
          "data": {
            "text/plain": [
              "'How journalists use youtube-dl, the media tool RIAA forced offline'"
            ]
          },
          "metadata": {
            "tags": []
          },
          "execution_count": 8
        }
      ]
    },
    {
      "cell_type": "code",
      "metadata": {
        "id": "JJ6mq1Xst7o1",
        "outputId": "1f9d7998-fa3c-458e-cae1-bd77f6e7a9d9"
      },
      "source": [
        "# Find all articles, extract titles\n",
        "articles = []\n",
        "summaries = soup.find_all(\"tr\", class_=\"athing\")\n",
        "for summary in summaries:\n",
        "    title = summary.find(\"a\", class_=\"storylink\").get_text().strip()\n",
        "    articles.append((title))\n",
        "\n",
        "print(len(articles), \"Article summaries found. Sample:\")\n",
        "print(articles[0])"
      ],
      "execution_count": null,
      "outputs": [
        {
          "output_type": "stream",
          "text": [
            "30 Article summaries found. Sample:\n",
            "How journalists use youtube-dl, the media tool RIAA forced offline\n"
          ],
          "name": "stdout"
        }
      ]
    },
    {
      "cell_type": "markdown",
      "metadata": {
        "collapsed": true,
        "id": "_eRlBluet7o3"
      },
      "source": [
        "## Normalization"
      ]
    },
    {
      "cell_type": "markdown",
      "metadata": {
        "id": "oa0hSazTt7o3"
      },
      "source": [
        "### Case Normalization"
      ]
    },
    {
      "cell_type": "code",
      "metadata": {
        "id": "c_YFYxFDt7o4",
        "outputId": "869d5be6-1184-437b-88ee-f16a31ed626a"
      },
      "source": [
        "# Sample text\n",
        "text = \"The first time you see The Second Renaissance it may look boring. Look at it at least twice and definitely watch part 2. It will change your view of the matrix. Are the human people the ones who started the war ? Is AI a bad thing ?\"\n",
        "print(text)"
      ],
      "execution_count": null,
      "outputs": [
        {
          "output_type": "stream",
          "text": [
            "The first time you see The Second Renaissance it may look boring. Look at it at least twice and definitely watch part 2. It will change your view of the matrix. Are the human people the ones who started the war ? Is AI a bad thing ?\n"
          ],
          "name": "stdout"
        }
      ]
    },
    {
      "cell_type": "code",
      "metadata": {
        "id": "PzgHuYWIt7o6",
        "outputId": "77625226-64f1-4f0f-980d-07142e27923c"
      },
      "source": [
        "# Convert to lowercase\n",
        "text = text.lower() \n",
        "print(text)"
      ],
      "execution_count": null,
      "outputs": [
        {
          "output_type": "stream",
          "text": [
            "the first time you see the second renaissance it may look boring. look at it at least twice and definitely watch part 2. it will change your view of the matrix. are the human people the ones who started the war ? is ai a bad thing ?\n"
          ],
          "name": "stdout"
        }
      ]
    },
    {
      "cell_type": "markdown",
      "metadata": {
        "id": "M9hTW3SFt7o8"
      },
      "source": [
        "### Punctuation Removal"
      ]
    },
    {
      "cell_type": "code",
      "metadata": {
        "id": "jUaoUPuFt7o9",
        "outputId": "60861db8-35aa-4a68-8503-63dc5c77caf3"
      },
      "source": [
        "import re\n",
        "\n",
        "# Remove punctuation characters\n",
        "text = re.sub(r\"[^a-zA-Z0-9]\", \" \", text) \n",
        "print(text)"
      ],
      "execution_count": null,
      "outputs": [
        {
          "output_type": "stream",
          "text": [
            "the first time you see the second renaissance it may look boring  look at it at least twice and definitely watch part 2  it will change your view of the matrix  are the human people the ones who started the war   is ai a bad thing  \n"
          ],
          "name": "stdout"
        }
      ]
    },
    {
      "cell_type": "markdown",
      "metadata": {
        "id": "BqWqWJ7Ut7o_"
      },
      "source": [
        "## Tokenization"
      ]
    },
    {
      "cell_type": "code",
      "metadata": {
        "id": "ttuPXus5t7o_",
        "outputId": "5303d39b-fa08-40e3-e62b-791bbe962c12"
      },
      "source": [
        "# Split text into tokens (words)\n",
        "words = text.split()\n",
        "print(words)\n"
      ],
      "execution_count": null,
      "outputs": [
        {
          "output_type": "stream",
          "text": [
            "['the', 'first', 'time', 'you', 'see', 'the', 'second', 'renaissance', 'it', 'may', 'look', 'boring', 'look', 'at', 'it', 'at', 'least', 'twice', 'and', 'definitely', 'watch', 'part', '2', 'it', 'will', 'change', 'your', 'view', 'of', 'the', 'matrix', 'are', 'the', 'human', 'people', 'the', 'ones', 'who', 'started', 'the', 'war', 'is', 'ai', 'a', 'bad', 'thing']\n"
          ],
          "name": "stdout"
        }
      ]
    },
    {
      "cell_type": "markdown",
      "metadata": {
        "id": "spbUejZYt7pB"
      },
      "source": [
        "### NLTK: Natural Language ToolKit"
      ]
    },
    {
      "cell_type": "code",
      "metadata": {
        "id": "NVvZO2mtt7pC"
      },
      "source": [
        "import os\n",
        "import nltk\n",
        "nltk.data.path.append(os.path.join(os.getcwd(), \"nltk_data\"))"
      ],
      "execution_count": null,
      "outputs": []
    },
    {
      "cell_type": "code",
      "metadata": {
        "id": "oDV7xM9pt7pE",
        "outputId": "0153bffe-a933-4bd7-a98f-ded2871cee0b"
      },
      "source": [
        "# Another sample text\n",
        "text = \"Dr. Smith graduated from the University of Washington. He later started an analytics firm called Lux, which catered to enterprise customers.\"\n",
        "print(text)"
      ],
      "execution_count": null,
      "outputs": [
        {
          "output_type": "stream",
          "text": [
            "Dr. Smith graduated from the University of Washington. He later started an analytics firm called Lux, which catered to enterprise customers.\n"
          ],
          "name": "stdout"
        }
      ]
    },
    {
      "cell_type": "code",
      "metadata": {
        "id": "f7HSKFDRt7pG",
        "outputId": "65713565-150a-4e14-eeed-7e2ad84592fe"
      },
      "source": [
        "from nltk.tokenize import word_tokenize\n",
        "\n",
        "# Split text into words using NLTK\n",
        "words = word_tokenize(text)\n",
        "print(words)"
      ],
      "execution_count": null,
      "outputs": [
        {
          "output_type": "stream",
          "text": [
            "['Dr.', 'Smith', 'graduated', 'from', 'the', 'University', 'of', 'Washington', '.', 'He', 'later', 'started', 'an', 'analytics', 'firm', 'called', 'Lux', ',', 'which', 'catered', 'to', 'enterprise', 'customers', '.']\n"
          ],
          "name": "stdout"
        }
      ]
    },
    {
      "cell_type": "code",
      "metadata": {
        "id": "A5ZkeRCft7pJ",
        "outputId": "a0862bec-943d-4d59-a00c-b73c6d2b4dd9"
      },
      "source": [
        "from nltk.tokenize import sent_tokenize\n",
        "\n",
        "# Split text into sentences\n",
        "sentences = sent_tokenize(text)\n",
        "print(sentences)"
      ],
      "execution_count": null,
      "outputs": [
        {
          "output_type": "stream",
          "text": [
            "['Dr. Smith graduated from the University of Washington.', 'He later started an analytics firm called Lux, which catered to enterprise customers.']\n"
          ],
          "name": "stdout"
        }
      ]
    },
    {
      "cell_type": "code",
      "metadata": {
        "id": "j6hJXsq3t7pL"
      },
      "source": [
        "# List stop words\n",
        "from nltk.corpus import stopwords\n",
        "print(stopwords.words(\"english\"))"
      ],
      "execution_count": null,
      "outputs": []
    },
    {
      "cell_type": "code",
      "metadata": {
        "id": "i4lUxHn1t7pN"
      },
      "source": [
        "# Reset text\n",
        "text = \"The first time you see The Second Renaissance it may look boring. Look at it at least twice and definitely watch part 2. It will change your view of the matrix. Are the human people the ones who started the war ? Is AI a bad thing ?\"\n",
        "\n",
        "# Normalize it\n",
        "text = re.sub(r\"[^a-zA-Z0-9]\", \" \", text.lower())\n",
        "\n",
        "# Tokenize it\n",
        "words = text.split()\n",
        "print(words)"
      ],
      "execution_count": null,
      "outputs": []
    },
    {
      "cell_type": "code",
      "metadata": {
        "id": "-tlQ6h0-t7pP"
      },
      "source": [
        "# Remove stop words\n",
        "words = [w for w in words if w not in stopwords.words(\"english\")]\n",
        "print(words)"
      ],
      "execution_count": null,
      "outputs": []
    },
    {
      "cell_type": "markdown",
      "metadata": {
        "id": "EeWTySwdt7pR"
      },
      "source": [
        "### Sentence Parsing"
      ]
    },
    {
      "cell_type": "code",
      "metadata": {
        "id": "VRr5fuybt7pS"
      },
      "source": [
        "import nltk\n",
        "\n",
        "# Define a custom grammar\n",
        "my_grammar = nltk.CFG.fromstring(\"\"\"\n",
        "S -> NP VP\n",
        "PP -> P NP\n",
        "NP -> Det N | Det N PP | 'I'\n",
        "VP -> V NP | VP PP\n",
        "Det -> 'an' | 'my'\n",
        "N -> 'elephant' | 'pajamas'\n",
        "V -> 'shot'\n",
        "P -> 'in'\n",
        "\"\"\")\n",
        "parser = nltk.ChartParser(my_grammar)\n",
        "\n",
        "# Parse a sentence\n",
        "sentence = word_tokenize(\"I shot an elephant in my pajamas\")\n",
        "for tree in parser.parse(sentence):\n",
        "    print(tree)"
      ],
      "execution_count": null,
      "outputs": []
    },
    {
      "cell_type": "markdown",
      "metadata": {
        "id": "g1W9rRl7t7pT"
      },
      "source": [
        "## Stemming & Lemmatization\n",
        "\n",
        "### Stemming"
      ]
    },
    {
      "cell_type": "code",
      "metadata": {
        "id": "IDeLW6iRt7pU"
      },
      "source": [
        "from nltk.stem.porter import PorterStemmer\n",
        "\n",
        "# Reduce words to their stems\n",
        "stemmed = [PorterStemmer().stem(w) for w in words]\n",
        "print(stemmed)"
      ],
      "execution_count": null,
      "outputs": []
    },
    {
      "cell_type": "markdown",
      "metadata": {
        "id": "Kx4JBgBSt7pW"
      },
      "source": [
        "### Lemmatization"
      ]
    },
    {
      "cell_type": "code",
      "metadata": {
        "id": "tjuySvSMt7pX"
      },
      "source": [
        "from nltk.stem.wordnet import WordNetLemmatizer\n",
        "\n",
        "# Reduce words to their root form\n",
        "lemmed = [WordNetLemmatizer().lemmatize(w) for w in words]\n",
        "print(lemmed)"
      ],
      "execution_count": null,
      "outputs": []
    },
    {
      "cell_type": "code",
      "metadata": {
        "id": "am4idK0Pt7pa"
      },
      "source": [
        "# Lemmatize verbs by specifying pos\n",
        "lemmed = [WordNetLemmatizer().lemmatize(w, pos='v') for w in lemmed]\n",
        "print(lemmed)"
      ],
      "execution_count": null,
      "outputs": []
    },
    {
      "cell_type": "code",
      "metadata": {
        "id": "0pQedvAht7pc"
      },
      "source": [
        ""
      ],
      "execution_count": null,
      "outputs": []
    }
  ]
}